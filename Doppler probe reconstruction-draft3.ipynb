{
 "cells": [
  {
   "cell_type": "code",
   "execution_count": 1,
   "id": "130ed71b-8765-437d-9087-b3e1b0f8c761",
   "metadata": {},
   "outputs": [],
   "source": [
    "import glob\n",
    "import numpy as np\n",
    "import pandas as pd\n",
    "import matplotlib.pyplot as plt\n",
    "\n",
    "from matplotlib import ticker\n",
    "\n",
    "from scipy.sparse import bsr_array\n",
    "\n",
    "from scipy.optimize import curve_fit\n",
    "\n",
    "import scipy.constants as const"
   ]
  },
  {
   "cell_type": "code",
   "execution_count": 2,
   "id": "6c264143-73e3-4d3e-aa17-67aa0739c60c",
   "metadata": {},
   "outputs": [],
   "source": [
    "plt.rcParams['figure.figsize'] = [4, 3]"
   ]
  },
  {
   "cell_type": "markdown",
   "id": "eea1f8e9-cbd6-4a6c-90ba-2755dfedf3aa",
   "metadata": {},
   "source": [
    "# Doppler effect explained\n",
    "First let's explain the doppler effect. I will jump out the high school physics but offer an intuitive explanation on how to derive and understand the equation.\n",
    "\n",
    "the doppler effect equation is given as follows:\n",
    "$$f'=\\left(\\frac{c\\pm v_r}{c\\pm v_s}\\right)f_0$$\n",
    "\n",
    "here $v_r$ is the receiver's velocity relative to the <b>medium</b>.(notice here it is the medium!! not the receiver.) the sign is plus when the receiver's velocity tends to increase the distance beween the receiver and source. Vice versa.\n",
    "$v_s$ is the source's velocity relative to the <b>medium</b>.(notice here again it is the medium!!!!) the sign is plus if the source's velocity tends to increase the distance between the receiver and source.\n",
    "\n",
    "the sign is actually intuitive to understand, but it's tricky why the source's velocity is in the bottom and the receiver's velocity is in the top. \n",
    "\n",
    "One intuitive method to understand this is to calculate the disturbation the receiver is receiving in a period of time, which can be described as $N=\\frac{c\\Delta t}{\\lambda}$. here $c\\Delta t$ is the wave's speed in the medium. (remember it is the wave's speed in the medium!!! and this number won't change unless the medium is changed!! which is impossible in our senario.) $\\lambda$ is the distance of the disturbations, notice here it is the distance between the disturbations, not the wavelength!!(later will show that this distance does not necessarily equal to the wavelength). then keep in mind that $f\\lambda_0=c$.\n",
    "\n",
    "Now the trick is that, when source moving towards the receiver, the distance of the distrubations changes!! you modify the $\\lambda$ in the bottom!!! While when receiver moving towards the source, the number of disturbations increases(becomes $N=\\frac{c\\Delta t+v_r\\Delta t}{\\lambda}$). \n",
    "this should help you instantly derive which is on the top and which is in the bottom.\n",
    "\n",
    "now plug in the numbers, in our ion doppler, \n",
    "$$\\Delta \\lambda = \\frac{v}{c}\\lambda_0$$\n",
    "\n",
    "or\n",
    "\n",
    "$$\\lambda'=\\frac{c-v}{c}\\lambda_0$$\n",
    "\n",
    "For our Doppler tomography system, in the velocity space, it can be written as following\n",
    "\n",
    "$$\\lambda'=\\frac{c-(v_x, v_y)\\cdot \\vec{v}}{c}\\lambda_0$$\n",
    "\n",
    "here $\\vec{v}$ is the unit vector along the detection direction, should be obvious why doing so.\n"
   ]
  },
  {
   "cell_type": "code",
   "execution_count": 3,
   "id": "952b44b8-29d4-4a7f-afc3-b03632845b24",
   "metadata": {},
   "outputs": [],
   "source": [
    "## physics constants\n",
    "c = const.c # speed of light\n",
    "lamda0 = 480.60202 # FOR our doppler system, we use the 480.60202nm line\n",
    "Ar_mass = 39.948 # this data is refferred to the nist periodical table\n",
    "mp= const.proton_mass # the mass of the proton, also refferred to the nist periodical table\n",
    "kb = const.k # Boltzmann constant\n",
    "ev = const.electron_volt # one electron volt in joules \n",
    "\n",
    "## data extraction parameters\n",
    "horizontal_span = 100 # the pixels to extract on the ICCD\n",
    "linear_dispersion = 0.004179537 # the linear dispersion, average value \n",
    "\n",
    "resolution = 18"
   ]
  },
  {
   "cell_type": "markdown",
   "id": "f4773d38-4a3c-4c0f-a6e5-8a8f6e6eefa8",
   "metadata": {},
   "source": [
    "## Let's see our ion velocity distribution!!\n",
    "Since in order to do an inversion, you have to prepare the velocity space mesh in advance. Let see how ArII ion's velocity distributes in our TS-6 device!! \n",
    "\n",
    "One dimensional Maxwellian distribution is given by\n",
    "$$f(u)=A\\exp\\left(-\\frac{1}{2}mu^2/KT\\right)$$\n",
    "where K is Boltzmann's constant, u is the velocity. interesting point to notice here is <b>that $\\frac{1}{2}mu^2$ is the kinetic energy!!!</b>\n",
    "The constant A is related to the density n\n",
    "$$A=n\\left(\\frac{m}{2\\pi KT}\\right)^{1/2}$$\n",
    "In plasma research $KT$, which is the mean kinetic energy of the particles, is often given in $eV$, for example $KT=T_i=1eV, 2eV, 3eV...$ \n",
    "\n",
    "In this case, when plugging the numbers into the equation, <b>remember to multiply $T_i$ by $eV=1.6\\times10^{-19}J$ to make sure that the unit is Joule... otherwise terrible things happen!!!!</b>\n",
    "\n",
    "Notice here that $m$ is the particle mass given in [kg], which is $m=m_p\\times M=1.672621924\\times 10^{-27}M$"
   ]
  },
  {
   "cell_type": "code",
   "execution_count": 4,
   "id": "5a317a5b-f0bf-4e6a-8b4c-e525f56f40b7",
   "metadata": {},
   "outputs": [],
   "source": [
    "def maxwellian_dis(Ti, u, m=Ar_mass):\n",
    "    '''\n",
    "    this function calculates the maxwellian distribution,\n",
    "    note Ti here is give in eV, and m is given in kg\n",
    "    '''\n",
    "    return (m/(2 * np.pi * Ti * ev)) ** (0.5) * np.exp(-0.5 * m * u **2 / (Ti * ev))"
   ]
  },
  {
   "cell_type": "code",
   "execution_count": 5,
   "id": "c47bd516-ac59-4d1e-92e0-db842b9ded3b",
   "metadata": {},
   "outputs": [],
   "source": [
    "Ti = 50\n",
    "u = np.linspace(-1.1e5, 1.1e5, 3000)\n",
    "\n",
    "fu = maxwellian_dis(Ti, u, Ar_mass*mp)"
   ]
  },
  {
   "cell_type": "code",
   "execution_count": 6,
   "id": "f2bd3884-c5c6-463c-9fb2-aff8196d4b37",
   "metadata": {},
   "outputs": [
    {
     "data": {
      "image/png": "[encoded data removed]",
      "text/plain": [
       "<Figure size 400x300 with 1 Axes>"
      ]
     },
     "metadata": {},
     "output_type": "display_data"
    }
   ],
   "source": [
    "plt.plot(u, fu)\n",
    "\n",
    "plt.gca().xaxis.set_major_formatter(ticker.FuncFormatter(lambda x, pos: '%.0f' %(x/1000)))\n",
    "\n",
    "plt.xlabel('velocity[km/s]')\n",
    "plt.ylabel('f(u)[s/m]')\n",
    "\n",
    "plt.margins(x=0)"
   ]
  },
  {
   "cell_type": "code",
   "execution_count": 7,
   "id": "16adb564-4729-4de5-9d01-7b112e4c875a",
   "metadata": {},
   "outputs": [
    {
     "data": {
      "text/plain": [
       "8.147066890175125e-05"
      ]
     },
     "execution_count": 7,
     "metadata": {},
     "output_type": "execute_result"
    }
   ],
   "source": [
    "np.sqrt(Ar_mass * mp / 2 / np.pi / 10 /ev) # the estimated value for A"
   ]
  },
  {
   "cell_type": "code",
   "execution_count": 9,
   "id": "58a72db0-974e-4ffa-9748-b5e59e8f9777",
   "metadata": {},
   "outputs": [
    {
     "data": {
      "text/plain": [
       "4896.759604153161"
      ]
     },
     "execution_count": 9,
     "metadata": {},
     "output_type": "execute_result"
    }
   ],
   "source": [
    "np.sqrt(10 * ev / Ar_mass /mp) # the estimated value for sigma"
   ]
  },
  {
   "cell_type": "markdown",
   "id": "fc212997-87ce-4cfb-9b19-c3d27f40456e",
   "metadata": {},
   "source": [
    "# Once the velocity distribution is obtained...\n",
    "use Gaussian fitting to recover the std of the velocity distribution.\n",
    "\n",
    "$$G(u)=A\\exp\\bigg[-\\frac{1}{2}\\big(\\frac{u-u_0}{\\sigma}\\big)^2\\bigg]$$\n",
    "\n",
    "Then the FWHM can be given as \n",
    "\n",
    "$$\\Delta u_{\\frac{1}{2}}=2\\sigma\\sqrt{2\\ln2}$$\n",
    "\n",
    "Finally use the following equation to recover the temperature!\n",
    "$$T_i[ev]=\\frac{m\\Delta u_{\\frac{1}{2}}}{(2\\sqrt{2\\ln2})^2}$$\n",
    "once again!! <b>do not forget to devide the value by $eV=1.6\\times10^{-9}$!!!! because the right hand side's unit is joule, and you want your temperature unit to be $eV$</b>"
   ]
  },
  {
   "cell_type": "code",
   "execution_count": 10,
   "id": "439d4e73-6d69-47ab-b748-800cbea95423",
   "metadata": {},
   "outputs": [],
   "source": [
    "def Gaussian(u, A, u0, s):\n",
    "    return  A* np.exp(-0.5 * ((u - u0) / s) ** 2)"
   ]
  },
  {
   "cell_type": "code",
   "execution_count": 11,
   "id": "621f656e-1ab4-4945-8799-9f8bc0c7ac38",
   "metadata": {},
   "outputs": [],
   "source": [
    "[A_op, u0_op, s_op], pov = curve_fit(Gaussian, u, fu,p0=[1e-5, 0, 3e4])"
   ]
  },
  {
   "cell_type": "code",
   "execution_count": 12,
   "id": "0a44d0d2-3a15-420d-b4ee-c2b15bd6a034",
   "metadata": {},
   "outputs": [],
   "source": [
    "u12 = 2 * s_op * np.sqrt(2 * np.log(2))"
   ]
  },
  {
   "cell_type": "code",
   "execution_count": 13,
   "id": "ea9e71b5-9927-4b93-b310-d4d32c04f59e",
   "metadata": {},
   "outputs": [
    {
     "data": {
      "text/plain": [
       "50.00000000044598"
      ]
     },
     "execution_count": 13,
     "metadata": {},
     "output_type": "execute_result"
    }
   ],
   "source": [
    "Ar_mass * mp * (u12) **2 / (8 * np.log(2)) / ev"
   ]
  },
  {
   "cell_type": "markdown",
   "id": "127be6b3-26ec-454f-a4e5-dd5d0818dad7",
   "metadata": {},
   "source": [
    "# Projection matrix\n",
    "We recover our spectrum back into velocity distribution using algebraic reconstruction technique. And in the algebraic reconstruction, the most difficult thing is to find the projection matrix...\n",
    "\n",
    "The First step is to generate a mesh, on which you want to recover the velocity distribution. As seen above, our maximum velocity at temperature 10eV is around 100km/s. \n",
    "\n",
    "Also as seen above, the wavelength drift is given as \n",
    "\n",
    "$$\\lambda'=\\frac{c-\\Arrowvert(v_x, v_y)\\cdot \\vec{v}\\Arrowvert}{c}\\lambda_0$$\n",
    "\n",
    "But one problem is that ICCD camera is also discrete, sometimes the photon emitted by one point in our mesh may not be perfectly the wavelength our ICCD's pixel is recording. So, some response function is needed. \n",
    "\n",
    "Here I will assume that when one photon hits the ICCD, its energy is fully recorded by the nearest pixel."
   ]
  },
  {
   "cell_type": "markdown",
   "id": "9e8f0904-4b72-4d5a-9991-bd4ce2181913",
   "metadata": {},
   "source": [
    "## Let's begin with the dopple drift"
   ]
  },
  {
   "cell_type": "code",
   "execution_count": 13,
   "id": "c1cc71c6-33b4-49fb-8ce4-db5da1d0242d",
   "metadata": {},
   "outputs": [],
   "source": [
    "vx = np.linspace(-1e5, 1e5, resolution)\n",
    "vy = np.linspace(-1e5, 1e5, resolution)\n",
    "\n",
    "Vx, Vy = np.meshgrid(vx, vy)"
   ]
  },
  {
   "cell_type": "code",
   "execution_count": 14,
   "id": "6ac30c80-0682-49c7-98d1-5e20581522bf",
   "metadata": {},
   "outputs": [],
   "source": [
    "vx_vy = np.vstack((Vx.ravel(), Vy.ravel())) # this is the coordinates of all points"
   ]
  },
  {
   "cell_type": "code",
   "execution_count": 15,
   "id": "c100eb9b-a050-44c6-8cf7-c3cb1729baca",
   "metadata": {},
   "outputs": [],
   "source": [
    "v_0 = np.array([[1, 0]]) # the unit vector along 0 degree and 30 degree\n",
    "v_30 = np.array([[np.sqrt(3), 1]]) / 2\n",
    "v_m30 = np.array([[-np.sqrt(3), 1]]) / 2 # the unit vector along -30 degree"
   ]
  },
  {
   "cell_type": "code",
   "execution_count": 16,
   "id": "5d1ef73d-a72a-436f-bf3f-920d9bf6b283",
   "metadata": {},
   "outputs": [],
   "source": [
    "projection_0 = v_0 @ vx_vy # this line calculates the velocity along the 30 degree of each point\n",
    "projection_30 = v_30 @ vx_vy\n",
    "projection_m30 = v_m30 @ vx_vy"
   ]
  },
  {
   "cell_type": "code",
   "execution_count": 17,
   "id": "d6709494-9731-42a3-bba3-fb89e776ffb9",
   "metadata": {},
   "outputs": [],
   "source": [
    "delta_lamda_0 = projection_0 / c * lamda0\n",
    "delta_lamda_30 = projection_30 / c * lamda0\n",
    "delta_lamda_m30 = projection_m30 / c * lamda0\n",
    "\n",
    "lamda_p_0 = lamda0 - delta_lamda_0\n",
    "lamda_p_30 = lamda0 - delta_lamda_30\n",
    "lamda_p_m30 = lamda0 - delta_lamda_m30"
   ]
  },
  {
   "cell_type": "markdown",
   "id": "767e5f00-ac68-40a1-85c9-ca52ca6aca69",
   "metadata": {},
   "source": [
    "## Okay! Now let's work on the projection matrix!"
   ]
  },
  {
   "cell_type": "code",
   "execution_count": 18,
   "id": "a7705ad5-aac9-417d-a2fe-054b1ad636cf",
   "metadata": {},
   "outputs": [],
   "source": [
    "wavelength = lamda0 + np.arange(-horizontal_span//2, horizontal_span//2) * linear_dispersion"
   ]
  },
  {
   "cell_type": "code",
   "execution_count": 19,
   "id": "6ed46fa4-4890-48b6-a8e8-0490e803de01",
   "metadata": {},
   "outputs": [
    {
     "name": "stdout",
     "output_type": "stream",
     "text": [
      "the minimum and maximum drifted wavelength along 0 degree: (480.441708nm, 480.762332nm)\n",
      "the minimum and maximum drifted wavelength along 30 degree: (480.383030nm, 480.821010nm)\n",
      "the minimum and maximum wavelength on our extracted pixels: (480.393043nm, 480.806817nm)\n"
     ]
    }
   ],
   "source": [
    "print('the minimum and maximum drifted wavelength along 0 degree: (%fnm, %fnm)' \n",
    "      %(lamda_p_0.min(), lamda_p_0.max()))\n",
    "print('the minimum and maximum drifted wavelength along 30 degree: (%fnm, %fnm)' \n",
    "      %(lamda_p_30.min(), lamda_p_30.max()))\n",
    "print('the minimum and maximum wavelength on our extracted pixels: (%fnm, %fnm)' \n",
    "      %(wavelength.min(), wavelength.max()))"
   ]
  },
  {
   "cell_type": "markdown",
   "id": "469513bb-0424-4bbe-a035-c6a84dd6f0d1",
   "metadata": {},
   "source": [
    "As a conclusion our extracted pixels has reasonably covered our range"
   ]
  },
  {
   "cell_type": "code",
   "execution_count": 20,
   "id": "423a0bac-0a73-4c2f-939f-70322e9275ab",
   "metadata": {},
   "outputs": [],
   "source": [
    "P_0_idx = np.abs((lamda_p_0 - wavelength[:, None])).argmin(axis=0)\n",
    "P_30_idx = np.abs((lamda_p_30 - wavelength[:, None])).argmin(axis=0) + horizontal_span\n",
    "P_m30_idx = np.abs((lamda_p_m30 - wavelength[:, None])).argmin(axis=0) + horizontal_span * 2"
   ]
  },
  {
   "cell_type": "code",
   "execution_count": 21,
   "id": "cf34b28d-5818-4782-a480-a24f25594d16",
   "metadata": {},
   "outputs": [],
   "source": [
    "P_idx = np.concatenate([P_0_idx, P_30_idx, P_m30_idx])"
   ]
  },
  {
   "cell_type": "code",
   "execution_count": 22,
   "id": "d42bb2bb-3499-413c-82ff-db2310652134",
   "metadata": {},
   "outputs": [],
   "source": [
    "column_idx = np.tile(np.arange(0, resolution**2), 3)"
   ]
  },
  {
   "cell_type": "code",
   "execution_count": 23,
   "id": "5fd9700d-89b9-4dcc-9ee3-2d6fc5f0b0ba",
   "metadata": {},
   "outputs": [],
   "source": [
    "P = bsr_array((np.ones(3 * resolution ** 2), (P_idx, column_idx)), shape=(horizontal_span*3, resolution**2))"
   ]
  },
  {
   "cell_type": "markdown",
   "id": "50a13fef-c5c3-40b4-9982-63d7d80ed9d6",
   "metadata": {},
   "source": [
    "# Start loading the real experimental data!!!"
   ]
  },
  {
   "cell_type": "code",
   "execution_count": 24,
   "id": "cd41905a-6832-40ea-9692-19fb89a106cb",
   "metadata": {},
   "outputs": [],
   "source": [
    "file = glob.glob('./240619/shot10-Ar-width 4us-gain 3800-dealy 464us.sif/formatted_data/Group3*csv')"
   ]
  },
  {
   "cell_type": "code",
   "execution_count": 25,
   "id": "ef0bbe3d-93e5-4d1a-8972-abe2f7d1b0b0",
   "metadata": {},
   "outputs": [
    {
     "data": {
      "text/plain": [
       "['./240619/shot10-Ar-width 4us-gain 3800-dealy 464us.sif/formatted_data/Group3_5-30.csv',\n",
       " './240619/shot10-Ar-width 4us-gain 3800-dealy 464us.sif/formatted_data/Group3_12-30.csv',\n",
       " './240619/shot10-Ar-width 4us-gain 3800-dealy 464us.sif/formatted_data/Group3_5-0.csv',\n",
       " './240619/shot10-Ar-width 4us-gain 3800-dealy 464us.sif/formatted_data/Group3_12-0.csv']"
      ]
     },
     "execution_count": 25,
     "metadata": {},
     "output_type": "execute_result"
    }
   ],
   "source": [
    "file"
   ]
  },
  {
   "cell_type": "code",
   "execution_count": 26,
   "id": "9a5ad7b3-ecbe-4890-a092-0f364346e542",
   "metadata": {},
   "outputs": [],
   "source": [
    "df1 = pd.read_csv(file[0])\n",
    "df2 = pd.read_csv(file[1])\n",
    "df3 = pd.read_csv(file[2])\n",
    "df4 = pd.read_csv(file[3])"
   ]
  },
  {
   "cell_type": "code",
   "execution_count": 27,
   "id": "c9acdd60-3edf-44e5-aab2-a950a01ac99e",
   "metadata": {},
   "outputs": [],
   "source": [
    "A = np.zeros(horizontal_span * 3)"
   ]
  },
  {
   "cell_type": "code",
   "execution_count": 28,
   "id": "4b72e293-cdec-430b-83c7-15849fd01d57",
   "metadata": {},
   "outputs": [],
   "source": [
    "I1 = np.array(df1['intensity'])\n",
    "I2 = np.array(df2['intensity'])\n",
    "I3 = np.array(df3['intensity'])\n",
    "I4 = np.array(df4['intensity'])"
   ]
  },
  {
   "cell_type": "code",
   "execution_count": 35,
   "id": "6f981103-dbba-4297-81f8-854b7a4d2640",
   "metadata": {},
   "outputs": [],
   "source": [
    "A[:horizontal_span] = I3 - I3[:10].mean()\n",
    "A[horizontal_span:2*horizontal_span] = I1 - I1[:10].mean()\n",
    "A[2*horizontal_span:horizontal_span*3] = I2 - I2[:10].mean()"
   ]
  },
  {
   "cell_type": "code",
   "execution_count": null,
   "id": "e04a9af0-8b51-4878-92e1-f72e9863a3b8",
   "metadata": {},
   "outputs": [],
   "source": []
  },
  {
   "cell_type": "code",
   "execution_count": null,
   "id": "77968fb4-2407-4b08-92ab-4f2afb5e81a4",
   "metadata": {},
   "outputs": [],
   "source": []
  },
  {
   "cell_type": "code",
   "execution_count": null,
   "id": "ba58df3b-849a-4b2c-9897-6aa510ed5a27",
   "metadata": {},
   "outputs": [],
   "source": []
  },
  {
   "cell_type": "code",
   "execution_count": 37,
   "id": "8f6a7455-3da0-4dc6-aa71-b277e34d3d49",
   "metadata": {},
   "outputs": [
    {
     "name": "stderr",
     "output_type": "stream",
     "text": [
      "/tmp/ipykernel_371/1827400661.py:1: FutureWarning: `rcond` parameter will change to the default of machine precision times ``max(M, N)`` where M and N are the input matrix dimensions.\n",
      "To use the future default and silence this warning we advise to pass `rcond=None`, to keep using the old, explicitly pass `rcond=-1`.\n",
      "  x, res, rank, s = np.linalg.lstsq(P.toarray(), A)\n"
     ]
    }
   ],
   "source": [
    "x, res, rank, s = np.linalg.lstsq(P.toarray(), A)"
   ]
  },
  {
   "cell_type": "code",
   "execution_count": 38,
   "id": "3e02d81a-cdaa-44be-9260-3aa235eeafb4",
   "metadata": {},
   "outputs": [],
   "source": [
    "%matplotlib widget"
   ]
  },
  {
   "cell_type": "code",
   "execution_count": 39,
   "id": "e3526fc5-1415-484f-b142-eb6a1c03397a",
   "metadata": {},
   "outputs": [
    {
     "data": {
      "text/plain": [
       "<matplotlib.image.AxesImage at 0x7f027ba31cd0>"
      ]
     },
     "execution_count": 39,
     "metadata": {},
     "output_type": "execute_result"
    }
   ],
   "source": [
    "plt.imshow(x.reshape(resolution, resolution))"
   ]
  },
  {
   "cell_type": "code",
   "execution_count": null,
   "id": "26fadd59-c5a7-438b-97ba-85e9b7b4e4d7",
   "metadata": {},
   "outputs": [],
   "source": []
  }
 ],
 "metadata": {
  "kernelspec": {
   "display_name": "Python 3 (ipykernel)",
   "language": "python",
   "name": "python3"
  },
  "language_info": {
   "codemirror_mode": {
    "name": "ipython",
    "version": 3
   },
   "file_extension": ".py",
   "mimetype": "text/x-python",
   "name": "python",
   "nbconvert_exporter": "python",
   "pygments_lexer": "ipython3",
   "version": "3.11.2"
  }
 },
 "nbformat": 4,
 "nbformat_minor": 5
}
